{
 "cells": [
  {
   "cell_type": "code",
   "execution_count": null,
   "id": "0459f030",
   "metadata": {},
   "outputs": [
    {
     "name": "stdout",
     "output_type": "stream",
     "text": [
      " * Serving Flask app '__main__'\n",
      " * Debug mode: off\n"
     ]
    },
    {
     "name": "stderr",
     "output_type": "stream",
     "text": [
      "WARNING: This is a development server. Do not use it in a production deployment. Use a production WSGI server instead.\n",
      " * Running on http://127.0.0.1:8080\n",
      "Press CTRL+C to quit\n",
      "127.0.0.1 - - [01/Jun/2024 13:14:26] \"POST /predict HTTP/1.1\" 200 -\n",
      "127.0.0.1 - - [01/Jun/2024 13:14:29] \"POST /predict HTTP/1.1\" 200 -\n",
      "127.0.0.1 - - [01/Jun/2024 13:14:30] \"OPTIONS /search?search= HTTP/1.1\" 200 -\n",
      "127.0.0.1 - - [01/Jun/2024 13:14:30] \"GET /search?search= HTTP/1.1\" 200 -\n",
      "127.0.0.1 - - [01/Jun/2024 13:14:34] \"POST /predict HTTP/1.1\" 200 -\n"
     ]
    }
   ],
   "source": [
    "from flask import Flask, request, jsonify\n",
    "from flask_cors import CORS\n",
    "\n",
    "app = Flask(__name__)\n",
    "CORS(app)\n",
    "\n",
    "@app.route(\"/\")\n",
    "def home():\n",
    "    return \"Hello, World!sssssss\"\n",
    "\n",
    "@app.route('/predict', methods=['POST'])\n",
    "def predict():\n",
    "    dataset_name = request.form.get('dataset_name')\n",
    "\n",
    "    response = {\n",
    "        'dataset_name': dataset_name\n",
    "    }\n",
    "    \n",
    "    return jsonify(response)\n",
    "\n",
    "@app.route('/search',methods=['GET'])\n",
    "def search():\n",
    "    search = request.args.get('search')  # Get query parameter from URL\n",
    "    results = [\n",
    "        {\n",
    "            'doc_id': '1',\n",
    "            'title': 'Title 1',\n",
    "            'condition': 'Condition 1',\n",
    "            'summary': 'Summary 1',\n",
    "            'detailed_description': 'Detailed description 1',\n",
    "            'eligibility': 'Eligibility 1'\n",
    "        },\n",
    "        {\n",
    "            'doc_id': '2',\n",
    "            'title': 'Title 2',\n",
    "            'condition': 'Condition 2',\n",
    "            'summary': 'Summary 2',\n",
    "            'detailed_description': 'Detailed description 2',\n",
    "            'eligibility': 'Eligibility 2'\n",
    "        }\n",
    "    ]\n",
    "    suggestions = [\n",
    "        {'id': '1', 'text': 'Suggestion 1'},\n",
    "        {'id': '2', 'text': 'Suggestion 2'}\n",
    "    ]\n",
    "    \n",
    "    response = {\n",
    "        'results': results,\n",
    "        'suggestions': suggestions\n",
    "    }\n",
    "    \n",
    "    return jsonify(response)\n",
    "\n",
    "if __name__ == '__main__':\n",
    "    app.run(port=8080)"
   ]
  },
  {
   "cell_type": "code",
   "execution_count": null,
   "id": "9e364b48",
   "metadata": {},
   "outputs": [],
   "source": []
  }
 ],
 "metadata": {
  "kernelspec": {
   "display_name": "Python 3 (ipykernel)",
   "language": "python",
   "name": "python3"
  },
  "language_info": {
   "codemirror_mode": {
    "name": "ipython",
    "version": 3
   },
   "file_extension": ".py",
   "mimetype": "text/x-python",
   "name": "python",
   "nbconvert_exporter": "python",
   "pygments_lexer": "ipython3",
   "version": "3.10.9"
  }
 },
 "nbformat": 4,
 "nbformat_minor": 5
}
